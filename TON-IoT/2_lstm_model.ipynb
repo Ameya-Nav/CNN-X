{
 "cells": [
  {
   "cell_type": "code",
   "execution_count": 1,
   "metadata": {},
   "outputs": [],
   "source": [
    "import pandas as pd\n",
    "import numpy as np\n",
    "import matplotlib.pyplot as plt \n",
    "from sklearn.feature_selection import SelectKBest\n",
    "from sklearn.feature_selection import chi2\n",
    "\n",
    "from scipy.stats import spearmanr\n",
    "from sklearn.tree import DecisionTreeClassifier\n",
    "from sklearn.metrics import matthews_corrcoef\n",
    "from sklearn.model_selection import train_test_split\n",
    "from sklearn.metrics import classification_report, accuracy_score\n",
    "from sklearn.utils import resample\n",
    "from keras.models import Sequential\n",
    "from keras.layers import Dense, LSTM, Dropout"
   ]
  },
  {
   "cell_type": "code",
   "execution_count": null,
   "metadata": {},
   "outputs": [],
   "source": [
    "df = pd.read_csv('ToN-IoT_balanced_smote.csv')"
   ]
  },
  {
   "cell_type": "code",
   "execution_count": 46,
   "metadata": {},
   "outputs": [
    {
     "name": "stdout",
     "output_type": "stream",
     "text": [
      "Epoch 1/10\n",
      "75000/75000 [==============================] - 322s 4ms/step - loss: 0.3355 - accuracy: 0.8842 - val_loss: 0.2540 - val_accuracy: 0.9099\n",
      "Epoch 2/10\n",
      "75000/75000 [==============================] - 332s 4ms/step - loss: 0.2583 - accuracy: 0.9139 - val_loss: 0.2057 - val_accuracy: 0.9314\n",
      "Epoch 3/10\n",
      "75000/75000 [==============================] - 318s 4ms/step - loss: 0.2319 - accuracy: 0.9240 - val_loss: 0.1926 - val_accuracy: 0.9359\n",
      "Epoch 4/10\n",
      "75000/75000 [==============================] - 364s 5ms/step - loss: 0.2159 - accuracy: 0.9298 - val_loss: 0.1763 - val_accuracy: 0.9430\n",
      "Epoch 5/10\n",
      "75000/75000 [==============================] - 252s 3ms/step - loss: 0.2019 - accuracy: 0.9352 - val_loss: 0.1650 - val_accuracy: 0.9456\n",
      "Epoch 6/10\n",
      "75000/75000 [==============================] - 187s 2ms/step - loss: 0.1873 - accuracy: 0.9413 - val_loss: 0.1473 - val_accuracy: 0.9530\n",
      "Epoch 7/10\n",
      "75000/75000 [==============================] - 209s 3ms/step - loss: 0.1765 - accuracy: 0.9454 - val_loss: 0.1714 - val_accuracy: 0.9425\n",
      "Epoch 8/10\n",
      "75000/75000 [==============================] - 206s 3ms/step - loss: 0.1681 - accuracy: 0.9484 - val_loss: 0.1572 - val_accuracy: 0.9461\n",
      "Epoch 9/10\n",
      "75000/75000 [==============================] - 199s 3ms/step - loss: 0.1628 - accuracy: 0.9504 - val_loss: 0.2627 - val_accuracy: 0.9061\n",
      "Epoch 10/10\n",
      "75000/75000 [==============================] - 125s 2ms/step - loss: 0.1583 - accuracy: 0.9518 - val_loss: 0.1403 - val_accuracy: 0.9509\n"
     ]
    }
   ],
   "source": [
    "# train an lstm model on the data\n",
    "from keras.models import Sequential\n",
    "from keras.layers import Dense, LSTM, Dropout, Activation, GRU\n",
    "from keras.optimizers import Adam\n",
    "import tensorflow as tf\n",
    "from keras.callbacks import EarlyStopping\n",
    "from sklearn import model_selection\n",
    "from sklearn import metrics\n",
    "X = data_balanced.drop('type', axis=1)\n",
    "Y = data_balanced[['type']]\n",
    "Y['type'] = Y['type'].astype('category')\n",
    "# one hot encode the type\n",
    "Y = pd.get_dummies(Y,columns=['type'])\n",
    "from sklearn.model_selection import train_test_split\n",
    "X_train, X_test, Y_train, Y_test = train_test_split(X,Y, test_size = 0.2, random_state = 42)\n",
    "\n",
    "# reshape the data for LSTM\n",
    "X_train = X_train.values.reshape((X_train.shape[0], 1, X_train.shape[1]))\n",
    "X_test = X_test.values.reshape((X_test.shape[0], 1, X_test.shape[1]))\n",
    "\n",
    "# convert all to numpy arrays\n",
    "X_train = np.asarray(X_train).astype(np.float32)\n",
    "# Y_train = np.asarray(Y_train).astype(np.float32)\n",
    "X_test = np.asarray(X_test).astype(np.float32)\n",
    "# Y_test = np.asarray(Y_test).astype(np.float32)\n",
    "\n",
    "# define the model2\n",
    "model2 = Sequential()\n",
    "opt = tf.keras.optimizers.legacy.Adam(learning_rate=0.01, clipvalue=0.5)\n",
    "model2.add(LSTM(64, input_shape=(X_train.shape[1], X_train.shape[2]), return_sequences=True, activation='softmax'))\n",
    "model2.add(Dropout(0.2))\n",
    "model2.add(LSTM(64, return_sequences=True))\n",
    "model2.add(Dropout(0.2))\n",
    "model2.add(LSTM(64))\n",
    "model2.add(Dropout(0.2))\n",
    "model2.add(Dense(10, activation='softmax'))\n",
    "model2.compile(loss='categorical_crossentropy', optimizer=opt, metrics=['accuracy'])\n",
    "\n",
    "# train the model2\n",
    "history = model2.fit(X_train, Y_train, epochs=10, batch_size=32, validation_data=(X_test, Y_test), shuffle=True)"
   ]
  },
  {
   "cell_type": "code",
   "execution_count": 47,
   "metadata": {},
   "outputs": [
    {
     "name": "stdout",
     "output_type": "stream",
     "text": [
      "18750/18750 [==============================] - 13s 649us/step\n",
      "Classification Report\n",
      "              precision    recall  f1-score   support\n",
      "\n",
      "           0       0.99      1.00      1.00     60144\n",
      "           1       0.96      0.96      0.96     60079\n",
      "           2       1.00      0.92      0.96     60047\n",
      "           3       0.87      0.94      0.90     59974\n",
      "           4       0.95      0.98      0.96     60175\n",
      "           5       1.00      1.00      1.00     59762\n",
      "           6       0.99      0.85      0.92     59631\n",
      "           7       0.99      0.99      0.99     59909\n",
      "           8       0.98      0.94      0.96     59992\n",
      "           9       0.97      0.91      0.94     60287\n",
      "\n",
      "   micro avg       0.97      0.95      0.96    600000\n",
      "   macro avg       0.97      0.95      0.96    600000\n",
      "weighted avg       0.97      0.95      0.96    600000\n",
      " samples avg       0.95      0.95      0.95    600000\n",
      "\n",
      "Accuracy:\n",
      "0.94872\n"
     ]
    },
    {
     "name": "stderr",
     "output_type": "stream",
     "text": [
      "/Library/Frameworks/Python.framework/Versions/3.8/lib/python3.8/site-packages/sklearn/metrics/_classification.py:1469: UndefinedMetricWarning: Precision and F-score are ill-defined and being set to 0.0 in samples with no predicted labels. Use `zero_division` parameter to control this behavior.\n",
      "  _warn_prf(average, modifier, msg_start, len(result))\n"
     ]
    }
   ],
   "source": [
    "y_pred = model2.predict(X_test)\n",
    "y_pred = (y_pred > 0.5)\n",
    "print('Classification Report')\n",
    "print(metrics.classification_report(Y_test, y_pred))\n",
    "print('Accuracy:')\n",
    "print(metrics.accuracy_score(Y_test, y_pred))"
   ]
  }
 ],
 "metadata": {
  "kernelspec": {
   "display_name": "Python 3",
   "language": "python",
   "name": "python3"
  },
  "language_info": {
   "codemirror_mode": {
    "name": "ipython",
    "version": 3
   },
   "file_extension": ".py",
   "mimetype": "text/x-python",
   "name": "python",
   "nbconvert_exporter": "python",
   "pygments_lexer": "ipython3",
   "version": "3.8.10"
  }
 },
 "nbformat": 4,
 "nbformat_minor": 2
}
