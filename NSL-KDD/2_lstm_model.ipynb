{
 "cells": [
  {
   "cell_type": "code",
   "execution_count": 1,
   "metadata": {},
   "outputs": [],
   "source": [
    "import pandas as pd\n",
    "import numpy as np\n",
    "import pandas as pd\n",
    "import matplotlib.pyplot as plt \n",
    "from sklearn.model_selection import train_test_split\n",
    "from sklearn.metrics import classification_report, confusion_matrix, accuracy_score\n",
    "import time\n",
    "import klib"
   ]
  },
  {
   "cell_type": "code",
   "execution_count": null,
   "metadata": {},
   "outputs": [],
   "source": [
    "#load processed data\n",
    "df = pd.read_csv('KDDTrain+_cleaned.csv')"
   ]
  },
  {
   "cell_type": "code",
   "execution_count": 12,
   "metadata": {},
   "outputs": [],
   "source": [
    "X = df.drop(['type'], axis=1)\n",
    "y = df['type']\n",
    "# one hot encoding\n",
    "y = pd.get_dummies(y)\n",
    "\n",
    "X_train, X_test, y_train, y_test = train_test_split(X, y, test_size=0.2, random_state=42)\n",
    "\n",
    "# convert to numpy array\n",
    "X_train = np.asarray(X_train).astype(np.float32)\n",
    "X_test = np.asarray(X_test).astype(np.float32)\n",
    "\n",
    "X_train = X_train.reshape(X_train.shape[0], X_train.shape[1], 1)\n",
    "X_test = X_test.reshape(X_test.shape[0], X_test.shape[1], 1)"
   ]
  },
  {
   "cell_type": "code",
   "execution_count": 13,
   "metadata": {},
   "outputs": [
    {
     "name": "stdout",
     "output_type": "stream",
     "text": [
      "Epoch 1/10\n",
      "4209/4209 [==============================] - ETA: 0s - loss: 0.3423 - accuracy: 0.8770\n",
      "Epoch 1: val_accuracy improved from -inf to 0.92010, saving model to lstm_best_model.h5\n",
      "4209/4209 [==============================] - 649s 154ms/step - loss: 0.3423 - accuracy: 0.8770 - val_loss: 0.1954 - val_accuracy: 0.9201\n",
      "Epoch 2/10\n"
     ]
    },
    {
     "name": "stderr",
     "output_type": "stream",
     "text": [
      "/Library/Frameworks/Python.framework/Versions/3.8/lib/python3.8/site-packages/keras/src/engine/training.py:3000: UserWarning: You are saving your model as an HDF5 file via `model.save()`. This file format is considered legacy. We recommend using instead the native Keras format, e.g. `model.save('my_model.keras')`.\n",
      "  saving_api.save_model(\n"
     ]
    },
    {
     "name": "stdout",
     "output_type": "stream",
     "text": [
      "4209/4209 [==============================] - ETA: 0s - loss: 0.2036 - accuracy: 0.9248\n",
      "Epoch 2: val_accuracy improved from 0.92010 to 0.94538, saving model to lstm_best_model.h5\n",
      "4209/4209 [==============================] - 672s 160ms/step - loss: 0.2036 - accuracy: 0.9248 - val_loss: 0.1449 - val_accuracy: 0.9454\n",
      "Epoch 3/10\n",
      "4209/4209 [==============================] - ETA: 0s - loss: 0.1349 - accuracy: 0.9489\n",
      "Epoch 3: val_accuracy improved from 0.94538 to 0.95048, saving model to lstm_best_model.h5\n",
      "4209/4209 [==============================] - 675s 160ms/step - loss: 0.1349 - accuracy: 0.9489 - val_loss: 0.1243 - val_accuracy: 0.9505\n",
      "Epoch 4/10\n",
      "4209/4209 [==============================] - ETA: 0s - loss: 0.1297 - accuracy: 0.9510\n",
      "Epoch 4: val_accuracy improved from 0.95048 to 0.95578, saving model to lstm_best_model.h5\n",
      "4209/4209 [==============================] - 670s 159ms/step - loss: 0.1297 - accuracy: 0.9510 - val_loss: 0.1166 - val_accuracy: 0.9558\n",
      "Epoch 5/10\n",
      "4209/4209 [==============================] - ETA: 0s - loss: 0.0838 - accuracy: 0.9697\n",
      "Epoch 5: val_accuracy improved from 0.95578 to 0.98024, saving model to lstm_best_model.h5\n",
      "4209/4209 [==============================] - 657s 156ms/step - loss: 0.0838 - accuracy: 0.9697 - val_loss: 0.0682 - val_accuracy: 0.9802\n",
      "Epoch 6/10\n",
      "4209/4209 [==============================] - ETA: 0s - loss: 0.0637 - accuracy: 0.9775\n",
      "Epoch 6: val_accuracy improved from 0.98024 to 0.98500, saving model to lstm_best_model.h5\n",
      "4209/4209 [==============================] - 634s 151ms/step - loss: 0.0637 - accuracy: 0.9775 - val_loss: 0.0542 - val_accuracy: 0.9850\n",
      "Epoch 7/10\n",
      "4209/4209 [==============================] - ETA: 0s - loss: 0.0558 - accuracy: 0.9802\n",
      "Epoch 7: val_accuracy did not improve from 0.98500\n",
      "4209/4209 [==============================] - 625s 148ms/step - loss: 0.0558 - accuracy: 0.9802 - val_loss: 0.1479 - val_accuracy: 0.9548\n",
      "Epoch 8/10\n",
      "4209/4209 [==============================] - ETA: 0s - loss: 0.0524 - accuracy: 0.9808\n",
      "Epoch 8: val_accuracy improved from 0.98500 to 0.98570, saving model to lstm_best_model.h5\n",
      "4209/4209 [==============================] - 652s 155ms/step - loss: 0.0524 - accuracy: 0.9808 - val_loss: 0.0350 - val_accuracy: 0.9857\n",
      "Epoch 9/10\n",
      "4209/4209 [==============================] - ETA: 0s - loss: 0.0469 - accuracy: 0.9827\n",
      "Epoch 9: val_accuracy improved from 0.98570 to 0.98658, saving model to lstm_best_model.h5\n",
      "4209/4209 [==============================] - 615s 146ms/step - loss: 0.0469 - accuracy: 0.9827 - val_loss: 0.0409 - val_accuracy: 0.9866\n",
      "Epoch 10/10\n",
      "4209/4209 [==============================] - ETA: 0s - loss: 0.0518 - accuracy: 0.9814\n",
      "Epoch 10: val_accuracy improved from 0.98658 to 0.98701, saving model to lstm_best_model.h5\n",
      "4209/4209 [==============================] - 614s 146ms/step - loss: 0.0518 - accuracy: 0.9814 - val_loss: 0.0335 - val_accuracy: 0.9870\n",
      "6463.300784111023\n"
     ]
    }
   ],
   "source": [
    "# train an lstm model\n",
    "from sklearn.model_selection import train_test_split\n",
    "from keras.models import Sequential\n",
    "from keras.layers import Dense, LSTM, Dropout, Activation\n",
    "from keras.optimizers import Adam\n",
    "from keras.callbacks import EarlyStopping\n",
    "from sklearn import model_selection\n",
    "from sklearn import metrics\n",
    "from keras.models import load_model\n",
    "from keras.optimizers import Adam\n",
    "from keras.callbacks import ModelCheckpoint\n",
    "\n",
    "# define the model\n",
    "model = Sequential()\n",
    "model.add(LSTM(64, input_shape=(X_train.shape[1], X_train.shape[2]), return_sequences=True))\n",
    "model.add(Dropout(0.1))\n",
    "model.add(LSTM(64, return_sequences=True))\n",
    "model.add(Dropout(0.1))\n",
    "model.add(LSTM(64))\n",
    "model.add(Dropout(0.1))\n",
    "model.add(Dense(5, activation='softmax'))\n",
    "model.compile(loss='categorical_crossentropy', optimizer='adam', metrics=['accuracy'])\n",
    "\n",
    "checkpointer = ModelCheckpoint(filepath='lstm_best_model.h5', verbose=1, save_best_only=True, monitor = 'val_accuracy', mode = 'max')\n",
    "start = time.time()\n",
    "# train the model\n",
    "history = model.fit(X_train, y_train, epochs=10, batch_size=64, validation_data=(X_test, y_test), callbacks=[checkpointer])\n",
    "end = time.time()\n",
    "print(end - start)"
   ]
  },
  {
   "cell_type": "code",
   "execution_count": 14,
   "metadata": {},
   "outputs": [
    {
     "name": "stdout",
     "output_type": "stream",
     "text": [
      "2105/2105 [==============================] - 39s 18ms/step\n",
      "              precision    recall  f1-score   support\n",
      "\n",
      "           0       1.00      1.00      1.00     13340\n",
      "           1       1.00      1.00      1.00     13507\n",
      "           2       1.00      0.99      1.00     13499\n",
      "           3       0.98      0.96      0.97     13629\n",
      "           4       0.96      0.98      0.97     13368\n",
      "\n",
      "    accuracy                           0.99     67343\n",
      "   macro avg       0.99      0.99      0.99     67343\n",
      "weighted avg       0.99      0.99      0.99     67343\n",
      "\n",
      "0.9870068158531696\n"
     ]
    }
   ],
   "source": [
    "model = load_model('lstm_best_model.h5')\n",
    "y_pred = model.predict(X_test)\n",
    "y_pred = np.argmax(y_pred, axis=1)\n",
    "y_test = np.argmax(y_test, axis=1)\n",
    "\n",
    "print(classification_report(y_test, y_pred))\n",
    "print(accuracy_score(y_test, y_pred))"
   ]
  },
  {
   "cell_type": "code",
   "execution_count": 15,
   "metadata": {},
   "outputs": [
    {
     "name": "stdout",
     "output_type": "stream",
     "text": [
      "Accuracy of each class:\n",
      "dos: 0.9973013493253373\n",
      "normal: 0.998889464721996\n",
      "probe: 0.9919253278020594\n",
      "r2l: 0.963607014454472\n",
      "u2r: 0.9836175942549371\n"
     ]
    }
   ],
   "source": [
    "# from confusion matrix calculate accuracy of each class\n",
    "cm = confusion_matrix(y_test, y_pred)\n",
    "cm = cm.astype('float') / cm.sum(axis=1)[:, np.newaxis]\n",
    "print('Accuracy of each class:')\n",
    "print('dos:', cm[0,0])\n",
    "print('normal:', cm[1,1])\n",
    "print('probe:', cm[2,2])\n",
    "print('r2l:', cm[3,3])\n",
    "print('u2r:', cm[4,4])"
   ]
  }
 ],
 "metadata": {
  "kernelspec": {
   "display_name": "Python 3",
   "language": "python",
   "name": "python3"
  },
  "language_info": {
   "codemirror_mode": {
    "name": "ipython",
    "version": 3
   },
   "file_extension": ".py",
   "mimetype": "text/x-python",
   "name": "python",
   "nbconvert_exporter": "python",
   "pygments_lexer": "ipython3",
   "version": "3.8.10"
  }
 },
 "nbformat": 4,
 "nbformat_minor": 2
}
