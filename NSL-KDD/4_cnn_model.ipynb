{
 "cells": [
  {
   "cell_type": "code",
   "execution_count": 1,
   "metadata": {},
   "outputs": [],
   "source": [
    "import pandas as pd\n",
    "import numpy as np\n",
    "import pandas as pd\n",
    "import matplotlib.pyplot as plt \n",
    "from sklearn.model_selection import train_test_split\n",
    "from sklearn.metrics import classification_report, confusion_matrix, accuracy_score\n",
    "import time\n",
    "import klib\n",
    "from sklearn.preprocessing import StandardScaler\n",
    "from sklearn.preprocessing import LabelEncoder\n",
    "from keras.models import Sequential\n",
    "from keras.layers import Dense\n",
    "from keras.layers import Conv1D\n",
    "from keras.layers import MaxPooling1D\n",
    "from keras.layers import Flatten\n",
    "from keras.layers import Dropout\n",
    "from keras.layers import BatchNormalization\n",
    "from keras.callbacks import EarlyStopping\n",
    "from keras.callbacks import ModelCheckpoint\n",
    "from keras.models import load_model\n",
    "from keras.optimizers import Adam"
   ]
  },
  {
   "cell_type": "code",
   "execution_count": null,
   "metadata": {},
   "outputs": [],
   "source": [
    "#load processed data\n",
    "df = pd.read_csv('KDDTrain+_cleaned.csv')"
   ]
  },
  {
   "cell_type": "code",
   "execution_count": 12,
   "metadata": {},
   "outputs": [
    {
     "name": "stdout",
     "output_type": "stream",
     "text": [
      "Epoch 1/10\n",
      "8402/8418 [============================>.] - ETA: 0s - loss: 0.0509 - accuracy: 0.9801\n",
      "Epoch 1: val_accuracy improved from -inf to 0.98958, saving model to cnn_best_model.h5\n",
      "8418/8418 [==============================] - 23s 3ms/step - loss: 0.0508 - accuracy: 0.9802 - val_loss: 0.0199 - val_accuracy: 0.9896\n",
      "Epoch 2/10\n",
      "  59/8418 [..............................] - ETA: 22s - loss: 0.0205 - accuracy: 0.9926"
     ]
    },
    {
     "name": "stderr",
     "output_type": "stream",
     "text": [
      "/Library/Frameworks/Python.framework/Versions/3.8/lib/python3.8/site-packages/keras/src/engine/training.py:3000: UserWarning: You are saving your model as an HDF5 file via `model.save()`. This file format is considered legacy. We recommend using instead the native Keras format, e.g. `model.save('my_model.keras')`.\n",
      "  saving_api.save_model(\n"
     ]
    },
    {
     "name": "stdout",
     "output_type": "stream",
     "text": [
      "8418/8418 [==============================] - ETA: 0s - loss: 0.0225 - accuracy: 0.9912\n",
      "Epoch 2: val_accuracy improved from 0.98958 to 0.99385, saving model to cnn_best_model.h5\n",
      "8418/8418 [==============================] - 22s 3ms/step - loss: 0.0225 - accuracy: 0.9912 - val_loss: 0.0145 - val_accuracy: 0.9939\n",
      "Epoch 3/10\n",
      "8404/8418 [============================>.] - ETA: 0s - loss: 0.0180 - accuracy: 0.9933\n",
      "Epoch 3: val_accuracy improved from 0.99385 to 0.99448, saving model to cnn_best_model.h5\n",
      "8418/8418 [==============================] - 22s 3ms/step - loss: 0.0181 - accuracy: 0.9933 - val_loss: 0.0129 - val_accuracy: 0.9945\n",
      "Epoch 4/10\n",
      "8409/8418 [============================>.] - ETA: 0s - loss: 0.0158 - accuracy: 0.9942\n",
      "Epoch 4: val_accuracy improved from 0.99448 to 0.99516, saving model to cnn_best_model.h5\n",
      "8418/8418 [==============================] - 22s 3ms/step - loss: 0.0158 - accuracy: 0.9942 - val_loss: 0.0134 - val_accuracy: 0.9952\n",
      "Epoch 5/10\n",
      "8408/8418 [============================>.] - ETA: 0s - loss: 0.0145 - accuracy: 0.9948\n",
      "Epoch 5: val_accuracy improved from 0.99516 to 0.99601, saving model to cnn_best_model.h5\n",
      "8418/8418 [==============================] - 21s 2ms/step - loss: 0.0145 - accuracy: 0.9948 - val_loss: 0.0106 - val_accuracy: 0.9960\n",
      "Epoch 6/10\n",
      "8411/8418 [============================>.] - ETA: 0s - loss: 0.0137 - accuracy: 0.9951\n",
      "Epoch 6: val_accuracy did not improve from 0.99601\n",
      "8418/8418 [==============================] - 22s 3ms/step - loss: 0.0137 - accuracy: 0.9951 - val_loss: 0.0132 - val_accuracy: 0.9944\n",
      "Epoch 7/10\n",
      "8409/8418 [============================>.] - ETA: 0s - loss: 0.0131 - accuracy: 0.9953\n",
      "Epoch 7: val_accuracy improved from 0.99601 to 0.99626, saving model to cnn_best_model.h5\n",
      "8418/8418 [==============================] - 22s 3ms/step - loss: 0.0131 - accuracy: 0.9953 - val_loss: 0.0099 - val_accuracy: 0.9963\n",
      "Epoch 8/10\n",
      "8411/8418 [============================>.] - ETA: 0s - loss: 0.0125 - accuracy: 0.9956\n",
      "Epoch 8: val_accuracy improved from 0.99626 to 0.99681, saving model to cnn_best_model.h5\n",
      "8418/8418 [==============================] - 21s 2ms/step - loss: 0.0125 - accuracy: 0.9956 - val_loss: 0.0102 - val_accuracy: 0.9968\n",
      "Epoch 9/10\n",
      "8412/8418 [============================>.] - ETA: 0s - loss: 0.0122 - accuracy: 0.9958\n",
      "Epoch 9: val_accuracy did not improve from 0.99681\n",
      "8418/8418 [==============================] - 22s 3ms/step - loss: 0.0122 - accuracy: 0.9958 - val_loss: 0.0099 - val_accuracy: 0.9966\n",
      "Epoch 10/10\n",
      "8404/8418 [============================>.] - ETA: 0s - loss: 0.0116 - accuracy: 0.9959\n",
      "Epoch 10: val_accuracy did not improve from 0.99681\n",
      "8418/8418 [==============================] - 21s 3ms/step - loss: 0.0116 - accuracy: 0.9959 - val_loss: 0.0155 - val_accuracy: 0.9925\n",
      "Time taken to train the model:  218.35069179534912\n"
     ]
    }
   ],
   "source": [
    "# train a cnn model\n",
    "X = df.drop(['type','class'], axis=1)\n",
    "y = df['type']\n",
    "# one hot encoding\n",
    "y = pd.get_dummies(y)\n",
    "\n",
    "X_train, X_test, y_train, y_test = train_test_split(X, y, test_size=0.2, random_state=42)\n",
    "\n",
    "# convert to numpy array\n",
    "X_train = np.asarray(X_train).astype(np.float32)\n",
    "X_test = np.asarray(X_test).astype(np.float32)\n",
    "\n",
    "X_train = X_train.reshape(X_train.shape[0], X_train.shape[1], 1)\n",
    "X_test = X_test.reshape(X_test.shape[0], X_test.shape[1], 1)\n",
    "\n",
    "model = Sequential()\n",
    "model.add(Conv1D(64, 3,activation=\"relu\",input_shape=(X_train.shape[1], 1)))\n",
    "model.add(MaxPooling1D(pool_size=2))\n",
    "# model.add(Conv1D(64, 3, activation=\"relu\"))\n",
    "model.add(Flatten())\n",
    "model.add(Dense(128, activation=\"relu\"))\n",
    "model.add(Dropout(0.5))\n",
    "model.add(Dense(5, activation=\"softmax\"))\n",
    "\n",
    "model.compile(loss='categorical_crossentropy', optimizer='adam', metrics=['accuracy'])\n",
    "\n",
    "mc = ModelCheckpoint('cnn_best_model.h5', monitor='val_accuracy', mode='max', verbose=1, save_best_only=True)\n",
    "\n",
    "start = time.time()\n",
    "history = model.fit(X_train, y_train, epochs=10, batch_size=32, validation_data=(X_test, y_test), callbacks=[mc])\n",
    "end = time.time()\n",
    "print(\"Time taken to train the model: \", end-start)"
   ]
  },
  {
   "cell_type": "code",
   "execution_count": 13,
   "metadata": {},
   "outputs": [
    {
     "name": "stdout",
     "output_type": "stream",
     "text": [
      "2105/2105 [==============================] - 2s 668us/step\n",
      "Time taken to predict:  1.8207061290740967\n",
      "              precision    recall  f1-score   support\n",
      "\n",
      "           0       1.00      1.00      1.00     13340\n",
      "           1       1.00      1.00      1.00     13507\n",
      "           2       1.00      1.00      1.00     13499\n",
      "           3       1.00      0.99      0.99     13629\n",
      "           4       0.98      1.00      0.99     13368\n",
      "\n",
      "    accuracy                           1.00     67343\n",
      "   macro avg       1.00      1.00      1.00     67343\n",
      "weighted avg       1.00      1.00      1.00     67343\n",
      "\n",
      "0.9968073890382074\n"
     ]
    }
   ],
   "source": [
    "model = load_model('cnn_best_model.h5')\n",
    "start = time.time()\n",
    "y_pred = model.predict(X_test)\n",
    "end = time.time()\n",
    "print(\"Time taken to predict: \", end-start)\n",
    "y_pred = np.argmax(y_pred, axis=1)\n",
    "y_test = np.argmax(y_test, axis=1)\n",
    "\n",
    "print(classification_report(y_test, y_pred))\n",
    "print(accuracy_score(y_test, y_pred))"
   ]
  },
  {
   "cell_type": "code",
   "execution_count": 14,
   "metadata": {},
   "outputs": [
    {
     "name": "stdout",
     "output_type": "stream",
     "text": [
      "Accuracy of each class:\n",
      "dos: 1.0\n",
      "normal: 1.0\n",
      "probe: 0.9991851248240611\n",
      "r2l: 0.985031917235307\n",
      "u2r: 1.0\n"
     ]
    }
   ],
   "source": [
    "# from confusion matrix calculate accuracy of each class\n",
    "cm = confusion_matrix(y_test, y_pred)\n",
    "cm = cm.astype('float') / cm.sum(axis=1)[:, np.newaxis]\n",
    "print('Accuracy of each class:')\n",
    "print('dos:', cm[0,0])\n",
    "print('normal:', cm[1,1])\n",
    "print('probe:', cm[2,2])\n",
    "print('r2l:', cm[3,3])\n",
    "print('u2r:', cm[4,4])"
   ]
  }
 ],
 "metadata": {
  "kernelspec": {
   "display_name": "Python 3",
   "language": "python",
   "name": "python3"
  },
  "language_info": {
   "codemirror_mode": {
    "name": "ipython",
    "version": 3
   },
   "file_extension": ".py",
   "mimetype": "text/x-python",
   "name": "python",
   "nbconvert_exporter": "python",
   "pygments_lexer": "ipython3",
   "version": "3.10.11"
  }
 },
 "nbformat": 4,
 "nbformat_minor": 2
}
