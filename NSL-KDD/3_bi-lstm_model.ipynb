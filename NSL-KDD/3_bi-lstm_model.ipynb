{
 "cells": [
  {
   "cell_type": "code",
   "execution_count": 1,
   "metadata": {},
   "outputs": [],
   "source": [
    "import pandas as pd\n",
    "import numpy as np\n",
    "import pandas as pd\n",
    "import matplotlib.pyplot as plt \n",
    "from sklearn.model_selection import train_test_split\n",
    "from sklearn.metrics import classification_report, confusion_matrix, accuracy_score\n",
    "import time\n",
    "import klib"
   ]
  },
  {
   "cell_type": "code",
   "execution_count": null,
   "metadata": {},
   "outputs": [],
   "source": [
    "#load processed data\n",
    "df = pd.read_csv('KDDTrain+_cleaned.csv')"
   ]
  },
  {
   "cell_type": "code",
   "execution_count": 12,
   "metadata": {},
   "outputs": [],
   "source": [
    "X = df.drop(['type'], axis=1)\n",
    "y = df['type']\n",
    "# one hot encoding\n",
    "y = pd.get_dummies(y)\n",
    "\n",
    "X_train, X_test, y_train, y_test = train_test_split(X, y, test_size=0.2, random_state=42)\n",
    "\n",
    "# convert to numpy array\n",
    "X_train = np.asarray(X_train).astype(np.float32)\n",
    "X_test = np.asarray(X_test).astype(np.float32)\n",
    "\n",
    "X_train = X_train.reshape(X_train.shape[0], X_train.shape[1], 1)\n",
    "X_test = X_test.reshape(X_test.shape[0], X_test.shape[1], 1)"
   ]
  },
  {
   "cell_type": "code",
   "execution_count": 13,
   "metadata": {},
   "outputs": [
    {
     "name": "stdout",
     "output_type": "stream",
     "text": [
      "Epoch 1/10\n",
      "4209/4209 [==============================] - ETA: 0s - loss: 0.2101 - accuracy: 0.9226\n",
      "Epoch 1: val_accuracy improved from -inf to 0.95964, saving model to bilstm_best_model.h5\n",
      "4209/4209 [==============================] - 809s 191ms/step - loss: 0.2101 - accuracy: 0.9226 - val_loss: 0.1052 - val_accuracy: 0.9596\n",
      "Epoch 2/10\n"
     ]
    },
    {
     "name": "stderr",
     "output_type": "stream",
     "text": [
      "/Library/Frameworks/Python.framework/Versions/3.8/lib/python3.8/site-packages/keras/src/engine/training.py:3000: UserWarning: You are saving your model as an HDF5 file via `model.save()`. This file format is considered legacy. We recommend using instead the native Keras format, e.g. `model.save('my_model.keras')`.\n",
      "  saving_api.save_model(\n"
     ]
    },
    {
     "name": "stdout",
     "output_type": "stream",
     "text": [
      "4209/4209 [==============================] - ETA: 0s - loss: 0.0753 - accuracy: 0.9720\n",
      "Epoch 2: val_accuracy improved from 0.95964 to 0.98411, saving model to bilstm_best_model.h5\n",
      "4209/4209 [==============================] - 840s 200ms/step - loss: 0.0753 - accuracy: 0.9720 - val_loss: 0.0438 - val_accuracy: 0.9841\n",
      "Epoch 3/10\n",
      "4209/4209 [==============================] - ETA: 0s - loss: 0.0527 - accuracy: 0.9809\n",
      "Epoch 3: val_accuracy improved from 0.98411 to 0.98563, saving model to bilstm_best_model.h5\n",
      "4209/4209 [==============================] - 909s 216ms/step - loss: 0.0527 - accuracy: 0.9809 - val_loss: 0.0374 - val_accuracy: 0.9856\n",
      "Epoch 4/10\n",
      "4209/4209 [==============================] - ETA: 0s - loss: 0.0428 - accuracy: 0.9840\n",
      "Epoch 4: val_accuracy improved from 0.98563 to 0.98692, saving model to bilstm_best_model.h5\n",
      "4209/4209 [==============================] - 847s 201ms/step - loss: 0.0428 - accuracy: 0.9840 - val_loss: 0.0414 - val_accuracy: 0.9869\n",
      "Epoch 5/10\n",
      "4209/4209 [==============================] - ETA: 0s - loss: 0.0382 - accuracy: 0.9857\n",
      "Epoch 5: val_accuracy did not improve from 0.98692\n",
      "4209/4209 [==============================] - 854s 203ms/step - loss: 0.0382 - accuracy: 0.9857 - val_loss: 0.0434 - val_accuracy: 0.9863\n",
      "Epoch 6/10\n",
      "4209/4209 [==============================] - ETA: 0s - loss: 0.0326 - accuracy: 0.9873\n",
      "Epoch 6: val_accuracy improved from 0.98692 to 0.98711, saving model to bilstm_best_model.h5\n",
      "4209/4209 [==============================] - 841s 200ms/step - loss: 0.0326 - accuracy: 0.9873 - val_loss: 0.0280 - val_accuracy: 0.9871\n",
      "Epoch 7/10\n",
      "4209/4209 [==============================] - ETA: 0s - loss: 0.0311 - accuracy: 0.9875\n",
      "Epoch 7: val_accuracy improved from 0.98711 to 0.98964, saving model to bilstm_best_model.h5\n",
      "4209/4209 [==============================] - 832s 198ms/step - loss: 0.0311 - accuracy: 0.9875 - val_loss: 0.0252 - val_accuracy: 0.9896\n",
      "Epoch 8/10\n",
      "4209/4209 [==============================] - ETA: 0s - loss: 0.0279 - accuracy: 0.9885\n",
      "Epoch 8: val_accuracy did not improve from 0.98964\n",
      "4209/4209 [==============================] - 899s 214ms/step - loss: 0.0279 - accuracy: 0.9885 - val_loss: 0.0252 - val_accuracy: 0.9884\n",
      "Epoch 9/10\n",
      "4209/4209 [==============================] - ETA: 0s - loss: 0.0260 - accuracy: 0.9893\n",
      "Epoch 9: val_accuracy improved from 0.98964 to 0.99111, saving model to bilstm_best_model.h5\n",
      "4209/4209 [==============================] - 900s 214ms/step - loss: 0.0260 - accuracy: 0.9893 - val_loss: 0.0212 - val_accuracy: 0.9911\n",
      "Epoch 10/10\n",
      "4209/4209 [==============================] - ETA: 0s - loss: 0.0237 - accuracy: 0.9896\n",
      "Epoch 10: val_accuracy did not improve from 0.99111\n",
      "4209/4209 [==============================] - 885s 210ms/step - loss: 0.0237 - accuracy: 0.9896 - val_loss: 0.0233 - val_accuracy: 0.9909\n",
      "8616.333870887756\n"
     ]
    }
   ],
   "source": [
    "# train a bi-lstm model\n",
    "from sklearn.model_selection import train_test_split\n",
    "from keras.models import Sequential\n",
    "from keras.layers import Dense, LSTM, Dropout, Activation, Bidirectional\n",
    "from keras.optimizers import Adam\n",
    "from keras.callbacks import EarlyStopping\n",
    "from sklearn import model_selection\n",
    "from sklearn import metrics\n",
    "from keras.models import load_model\n",
    "from keras.optimizers import Adam\n",
    "from keras.callbacks import ModelCheckpoint\n",
    "\n",
    "# define the model\n",
    "model = Sequential()\n",
    "model.add(Bidirectional(LSTM(64, input_shape=(X_train.shape[1], X_train.shape[2]), return_sequences=True)))\n",
    "model.add(Dropout(0.1))\n",
    "model.add(Bidirectional(LSTM(64, return_sequences=True)))\n",
    "model.add(Dropout(0.1))\n",
    "model.add(Bidirectional(LSTM(64)))\n",
    "model.add(Dropout(0.1))\n",
    "model.add(Dense(5, activation='softmax'))\n",
    "model.compile(loss='categorical_crossentropy', optimizer='adam', metrics=['accuracy'])\n",
    "\n",
    "checkpointer = ModelCheckpoint(filepath='bilstm_best_model.h5', verbose=1, save_best_only=True, monitor = 'val_accuracy', mode = 'max')\n",
    "start = time.time()\n",
    "# train the model\n",
    "history = model.fit(X_train, y_train, epochs=10, batch_size=64, validation_data=(X_test, y_test), callbacks=[checkpointer])\n",
    "end = time.time()\n",
    "print(end - start)"
   ]
  },
  {
   "cell_type": "code",
   "execution_count": 14,
   "metadata": {},
   "outputs": [
    {
     "name": "stdout",
     "output_type": "stream",
     "text": [
      "2105/2105 [==============================] - 64s 30ms/step\n",
      "              precision    recall  f1-score   support\n",
      "\n",
      "           0       1.00      1.00      1.00     13340\n",
      "           1       1.00      1.00      1.00     13507\n",
      "           2       1.00      1.00      1.00     13499\n",
      "           3       0.99      0.97      0.98     13629\n",
      "           4       0.97      0.99      0.98     13368\n",
      "\n",
      "    accuracy                           0.99     67343\n",
      "   macro avg       0.99      0.99      0.99     67343\n",
      "weighted avg       0.99      0.99      0.99     67343\n",
      "\n",
      "0.9911052373669127\n"
     ]
    }
   ],
   "source": [
    "model = load_model('bilstm_best_model.h5')\n",
    "y_pred = model.predict(X_test)\n",
    "y_pred = np.argmax(y_pred, axis=1)\n",
    "y_test = np.argmax(y_test, axis=1)\n",
    "\n",
    "print(classification_report(y_test, y_pred))\n",
    "print(accuracy_score(y_test, y_pred))"
   ]
  },
  {
   "cell_type": "code",
   "execution_count": 15,
   "metadata": {},
   "outputs": [
    {
     "name": "stdout",
     "output_type": "stream",
     "text": [
      "Accuracy of each class:\n",
      "dos: 0.9993253373313343\n",
      "normal: 0.9997778929443992\n",
      "probe: 0.9987406474553671\n",
      "r2l: 0.9725585149313963\n",
      "u2r: 0.9853381208856972\n"
     ]
    }
   ],
   "source": [
    "# from confusion matrix calculate accuracy of each class\n",
    "cm = confusion_matrix(y_test, y_pred)\n",
    "cm = cm.astype('float') / cm.sum(axis=1)[:, np.newaxis]\n",
    "print('Accuracy of each class:')\n",
    "print('dos:', cm[0,0])\n",
    "print('normal:', cm[1,1])\n",
    "print('probe:', cm[2,2])\n",
    "print('r2l:', cm[3,3])\n",
    "print('u2r:', cm[4,4])"
   ]
  },
  {
   "cell_type": "markdown",
   "metadata": {},
   "source": []
  }
 ],
 "metadata": {
  "kernelspec": {
   "display_name": "Python 3",
   "language": "python",
   "name": "python3"
  },
  "language_info": {
   "codemirror_mode": {
    "name": "ipython",
    "version": 3
   },
   "file_extension": ".py",
   "mimetype": "text/x-python",
   "name": "python",
   "nbconvert_exporter": "python",
   "pygments_lexer": "ipython3",
   "version": "3.8.10"
  }
 },
 "nbformat": 4,
 "nbformat_minor": 2
}
