{
 "cells": [
  {
   "cell_type": "code",
   "execution_count": 1,
   "metadata": {},
   "outputs": [],
   "source": [
    "import pandas as pd\n",
    "import numpy as np\n",
    "import pandas as pd\n",
    "import matplotlib.pyplot as plt \n",
    "from sklearn.model_selection import train_test_split\n",
    "from sklearn.metrics import classification_report, confusion_matrix, accuracy_score\n",
    "import time\n",
    "import klib"
   ]
  },
  {
   "cell_type": "code",
   "execution_count": 2,
   "metadata": {},
   "outputs": [],
   "source": [
    "df = pd.read_csv('KDDTrain+.csv')\n",
    "# replace normal with 0 and anomaly with 1\n",
    "df['class'] = df['class'].replace(['normal'], 0)\n",
    "df['class'] = df['class'].replace(['anomaly'], 1)"
   ]
  },
  {
   "cell_type": "code",
   "execution_count": 3,
   "metadata": {},
   "outputs": [],
   "source": [
    "df.drop(['duration', 'num_outbound_cmds'], axis=1, inplace=True)"
   ]
  },
  {
   "cell_type": "code",
   "execution_count": 4,
   "metadata": {},
   "outputs": [],
   "source": [
    "# klib.data_cleaning(df)"
   ]
  },
  {
   "cell_type": "code",
   "execution_count": 5,
   "metadata": {},
   "outputs": [],
   "source": [
    "#  in type, replace perl, xterm, buffer_overflow, ps, loadmodule, rootkit, sqlattack as u2r\n",
    "df['type'] = df['type'].replace(['perl','xterm','buffer_overflow','ps','loadmodule','rootkit','sqlattack'], 'u2r')\n",
    "# in type, replace warezclient, snmpguess, Snmpgetattack, phf, xsnoop, spy, named, warezmaster, http_tunnel, sendmail, imap, guess_passwd, ftp_write, multihop, xlock as r2l\n",
    "df['type'] = df['type'].replace(['warezclient','snmpguess','snmpgetattack','phf','xsnoop','spy','named','warezmaster','httptunnel','sendmail','imap','guess_passwd','ftp_write','multihop','xlock'], 'r2l')\n",
    "# in type, replace portsweep, nmap, saint, mscan, ipsweep, satan as probe\n",
    "df['type'] = df['type'].replace(['portsweep','nmap','saint','mscan','ipsweep','satan'], 'probe')\n",
    "# in type, replace mailbomb, worm, land, smurf, teardrop, processtable, back, pod, apache2, udpstorm, neptune as dos\n",
    "df['type'] = df['type'].replace(['mailbomb','worm','land','smurf','teardrop','processtable','back','pod','apache2','udpstorm','neptune'], 'dos')"
   ]
  },
  {
   "cell_type": "code",
   "execution_count": 6,
   "metadata": {},
   "outputs": [
    {
     "data": {
      "text/plain": [
       "type\n",
       "normal    67343\n",
       "dos       45927\n",
       "probe     11656\n",
       "r2l         995\n",
       "u2r          52\n",
       "Name: count, dtype: int64"
      ]
     },
     "execution_count": 6,
     "metadata": {},
     "output_type": "execute_result"
    }
   ],
   "source": [
    "df['type'].value_counts()"
   ]
  },
  {
   "cell_type": "code",
   "execution_count": 7,
   "metadata": {},
   "outputs": [],
   "source": [
    "cols_cat = df.select_dtypes('object').columns\n",
    "cols_numeric = df._get_numeric_data().columns\n",
    "\n",
    "def Remove_dump_values(data, cols):\n",
    "    for col in cols:\n",
    "        data[col] = np.where(data[col] == '-', 'None', data[col])\n",
    "    return data\n",
    "\n",
    "cols = df.columns\n",
    "data_bin = Remove_dump_values(df, cols)\n",
    "data_bin_attackcat = data_bin[['type']]\n",
    "\n",
    "from sklearn.preprocessing import OrdinalEncoder\n",
    "oe = OrdinalEncoder(categories='auto')\n",
    "oe.fit(data_bin_attackcat)\n",
    "data_bin_attackcat = oe.transform(data_bin_attackcat)\n",
    "\n",
    "data_bin.drop(['type'], axis=1, inplace=True)\n",
    "cols_cat = cols_cat.drop(['type'])\n",
    "data_bin_hot = pd.get_dummies(data_bin,columns=cols_cat)\n",
    "attack_cat_df = pd.DataFrame(data_bin_attackcat, columns=['type'])\n",
    "data_bin_hot2 = pd.concat([data_bin_hot,attack_cat_df],axis=1, join='inner',ignore_index=False)\n",
    "\n",
    "data_bin_hot2[cols_numeric] = data_bin_hot2[cols_numeric].astype('float') \n",
    "# normalize cols_numeric\n",
    "from sklearn.preprocessing import MinMaxScaler\n",
    "scaler = MinMaxScaler()\n",
    "data_bin_hot2[cols_numeric] = scaler.fit_transform(data_bin_hot2[cols_numeric])\n",
    "df = data_bin_hot2.copy()"
   ]
  },
  {
   "cell_type": "code",
   "execution_count": 8,
   "metadata": {},
   "outputs": [],
   "source": [
    "# drop any rows that have NaN values\n",
    "df = df.dropna()"
   ]
  },
  {
   "cell_type": "code",
   "execution_count": 9,
   "metadata": {},
   "outputs": [
    {
     "data": {
      "text/plain": [
       "type\n",
       "1.0    67343\n",
       "0.0    45927\n",
       "2.0    11656\n",
       "3.0      995\n",
       "4.0       52\n",
       "Name: count, dtype: int64"
      ]
     },
     "execution_count": 9,
     "metadata": {},
     "output_type": "execute_result"
    }
   ],
   "source": [
    "df['type'].value_counts()"
   ]
  },
  {
   "cell_type": "code",
   "execution_count": 10,
   "metadata": {},
   "outputs": [],
   "source": [
    "# use smote to balance the dataset\n",
    "from imblearn.over_sampling import SMOTE\n",
    "\n",
    "X = df.drop('type', axis=1)\n",
    "y = df['type']\n",
    "\n",
    "smote = SMOTE()\n",
    "X_sm, y_sm = smote.fit_resample(X, y)\n",
    "\n",
    "df = pd.concat([X_sm, y_sm], axis=1)\n"
   ]
  },
  {
   "cell_type": "code",
   "execution_count": 11,
   "metadata": {},
   "outputs": [
    {
     "data": {
      "text/plain": [
       "type\n",
       "1.0    67343\n",
       "0.0    67343\n",
       "3.0    67343\n",
       "2.0    67343\n",
       "4.0    67343\n",
       "Name: count, dtype: int64"
      ]
     },
     "execution_count": 11,
     "metadata": {},
     "output_type": "execute_result"
    }
   ],
   "source": [
    "df['type'].value_counts()"
   ]
  },
  {
   "cell_type": "code",
   "execution_count": null,
   "metadata": {},
   "outputs": [],
   "source": [
    "#save model\n",
    "df.to_csv('KDDTrain+_cleaned.csv', index=False)"
   ]
  }
 ],
 "metadata": {
  "kernelspec": {
   "display_name": "Python 3",
   "language": "python",
   "name": "python3"
  },
  "language_info": {
   "codemirror_mode": {
    "name": "ipython",
    "version": 3
   },
   "file_extension": ".py",
   "mimetype": "text/x-python",
   "name": "python",
   "nbconvert_exporter": "python",
   "pygments_lexer": "ipython3",
   "version": "3.8.10"
  }
 },
 "nbformat": 4,
 "nbformat_minor": 2
}
