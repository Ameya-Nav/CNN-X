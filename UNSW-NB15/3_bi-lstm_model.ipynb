{
 "cells": [
  {
   "cell_type": "code",
   "execution_count": 1,
   "metadata": {},
   "outputs": [],
   "source": [
    "import pandas as pd\n",
    "import numpy as np\n",
    "import pandas as pd\n",
    "import numpy as np\n",
    "import matplotlib.pyplot as plt \n",
    "import time"
   ]
  },
  {
   "cell_type": "code",
   "execution_count": null,
   "metadata": {},
   "outputs": [],
   "source": [
    "#load the balanced data\n",
    "data_balanced = pd.read_csv('UNSW_NB15_balanced_smote.csv')"
   ]
  },
  {
   "cell_type": "markdown",
   "metadata": {},
   "source": [
    "### BiLSTM Model for Multi-class Classification"
   ]
  },
  {
   "cell_type": "code",
   "execution_count": 15,
   "metadata": {},
   "outputs": [
    {
     "name": "stderr",
     "output_type": "stream",
     "text": [
      "C:\\Users\\Ameya\\AppData\\Local\\Temp\\ipykernel_31992\\3809319008.py:10: SettingWithCopyWarning: \n",
      "A value is trying to be set on a copy of a slice from a DataFrame.\n",
      "Try using .loc[row_indexer,col_indexer] = value instead\n",
      "\n",
      "See the caveats in the documentation: https://pandas.pydata.org/pandas-docs/stable/user_guide/indexing.html#returning-a-view-versus-a-copy\n",
      "  Y['attack_cat'] = Y['attack_cat'].astype('int')\n"
     ]
    },
    {
     "name": "stdout",
     "output_type": "stream",
     "text": [
      "(446400, 1, 196)\n",
      "Epoch 1/10\n",
      "13948/13950 [============================>.] - ETA: 0s - loss: 0.5890 - accuracy: 0.7777\n",
      "Epoch 1: val_accuracy improved from -inf to 0.81094, saving model to bilstm_best_model.h5\n",
      "13950/13950 [==============================] - 150s 9ms/step - loss: 0.5889 - accuracy: 0.7777 - val_loss: 0.4932 - val_accuracy: 0.8109\n",
      "Epoch 2/10\n"
     ]
    },
    {
     "name": "stderr",
     "output_type": "stream",
     "text": [
      "C:\\Users\\Ameya\\AppData\\Local\\Packages\\PythonSoftwareFoundation.Python.3.10_qbz5n2kfra8p0\\LocalCache\\local-packages\\Python310\\site-packages\\keras\\src\\engine\\training.py:3103: UserWarning: You are saving your model as an HDF5 file via `model.save()`. This file format is considered legacy. We recommend using instead the native Keras format, e.g. `model.save('my_model.keras')`.\n",
      "  saving_api.save_model(\n"
     ]
    },
    {
     "name": "stdout",
     "output_type": "stream",
     "text": [
      "13949/13950 [============================>.] - ETA: 0s - loss: 0.4955 - accuracy: 0.8102\n",
      "Epoch 2: val_accuracy improved from 0.81094 to 0.81868, saving model to bilstm_best_model.h5\n",
      "13950/13950 [==============================] - 156s 11ms/step - loss: 0.4955 - accuracy: 0.8102 - val_loss: 0.4674 - val_accuracy: 0.8187\n",
      "Epoch 3/10\n",
      "13944/13950 [============================>.] - ETA: 0s - loss: 0.4778 - accuracy: 0.8155\n",
      "Epoch 3: val_accuracy improved from 0.81868 to 0.82151, saving model to bilstm_best_model.h5\n",
      "13950/13950 [==============================] - 141s 10ms/step - loss: 0.4778 - accuracy: 0.8156 - val_loss: 0.4596 - val_accuracy: 0.8215\n",
      "Epoch 4/10\n",
      "13943/13950 [============================>.] - ETA: 0s - loss: 0.4669 - accuracy: 0.8187\n",
      "Epoch 4: val_accuracy improved from 0.82151 to 0.82280, saving model to bilstm_best_model.h5\n",
      "13950/13950 [==============================] - 128s 9ms/step - loss: 0.4668 - accuracy: 0.8187 - val_loss: 0.4515 - val_accuracy: 0.8228\n",
      "Epoch 5/10\n",
      "13947/13950 [============================>.] - ETA: 0s - loss: 0.4583 - accuracy: 0.8211\n",
      "Epoch 5: val_accuracy improved from 0.82280 to 0.82548, saving model to bilstm_best_model.h5\n",
      "13950/13950 [==============================] - 156s 11ms/step - loss: 0.4583 - accuracy: 0.8211 - val_loss: 0.4444 - val_accuracy: 0.8255\n",
      "Epoch 6/10\n",
      "13949/13950 [============================>.] - ETA: 0s - loss: 0.4514 - accuracy: 0.8232\n",
      "Epoch 6: val_accuracy improved from 0.82548 to 0.82766, saving model to bilstm_best_model.h5\n",
      "13950/13950 [==============================] - 128s 9ms/step - loss: 0.4514 - accuracy: 0.8232 - val_loss: 0.4391 - val_accuracy: 0.8277\n",
      "Epoch 7/10\n",
      "13948/13950 [============================>.] - ETA: 0s - loss: 0.4466 - accuracy: 0.8250\n",
      "Epoch 7: val_accuracy did not improve from 0.82766\n",
      "13950/13950 [==============================] - 133s 10ms/step - loss: 0.4466 - accuracy: 0.8250 - val_loss: 0.4398 - val_accuracy: 0.8255\n",
      "Epoch 8/10\n",
      "13946/13950 [============================>.] - ETA: 0s - loss: 0.4420 - accuracy: 0.8260\n",
      "Epoch 8: val_accuracy improved from 0.82766 to 0.82924, saving model to bilstm_best_model.h5\n",
      "13950/13950 [==============================] - 116s 8ms/step - loss: 0.4419 - accuracy: 0.8260 - val_loss: 0.4304 - val_accuracy: 0.8292\n",
      "Epoch 9/10\n",
      "13948/13950 [============================>.] - ETA: 0s - loss: 0.4380 - accuracy: 0.8275\n",
      "Epoch 9: val_accuracy improved from 0.82924 to 0.82928, saving model to bilstm_best_model.h5\n",
      "13950/13950 [==============================] - 131s 9ms/step - loss: 0.4380 - accuracy: 0.8275 - val_loss: 0.4310 - val_accuracy: 0.8293\n",
      "Epoch 10/10\n",
      "13945/13950 [============================>.] - ETA: 0s - loss: 0.4362 - accuracy: 0.8278\n",
      "Epoch 10: val_accuracy improved from 0.82928 to 0.83171, saving model to bilstm_best_model.h5\n",
      "13950/13950 [==============================] - 115s 8ms/step - loss: 0.4362 - accuracy: 0.8278 - val_loss: 0.4229 - val_accuracy: 0.8317\n",
      "Time taken to train the model:  1354.991328716278\n"
     ]
    }
   ],
   "source": [
    "# train an lstm model on the data\n",
    "from keras.models import Sequential,load_model\n",
    "from keras.layers import Dense, LSTM, Dropout, Activation, Bidirectional\n",
    "from keras.callbacks import ModelCheckpoint\n",
    "from sklearn import model_selection\n",
    "from sklearn import metrics\n",
    "import tensorflow as tf\n",
    "X = data_balanced.drop(['attack_cat','label'], axis=1)\n",
    "Y = data_balanced[['attack_cat']]\n",
    "Y['attack_cat'] = Y['attack_cat'].astype('int')\n",
    "# Y['label'] = Y['label'].astype('int')\n",
    "# one hot encode attack_cat\n",
    "Y = pd.get_dummies(Y,columns=['attack_cat'])\n",
    "\n",
    "from sklearn.model_selection import train_test_split\n",
    "X_train, X_test, Y_train, Y_test = train_test_split(X,Y, test_size = 0.2, random_state = 42)\n",
    "\n",
    "# reshape the data for LSTM\n",
    "X_train = X_train.values.reshape((X_train.shape[0], 1, X_train.shape[1]))\n",
    "X_test = X_test.values.reshape((X_test.shape[0], 1, X_test.shape[1]))\n",
    "\n",
    "# convert all to numpy arrays\n",
    "X_train = np.asarray(X_train).astype(np.float32)\n",
    "Y_train = np.asarray(Y_train).astype(np.int32)\n",
    "X_test = np.asarray(X_test).astype(np.float32)\n",
    "Y_test = np.asarray(Y_test).astype(np.int32)\n",
    "\n",
    "print(X_train.shape)\n",
    "# define the model\n",
    "model = Sequential()\n",
    "opt = tf.keras.optimizers.legacy.Adam(learning_rate=0.01)\n",
    "model.add(Bidirectional(LSTM(64, input_shape=(X_train.shape[1], X_train.shape[2]), return_sequences=True, activation='softmax',recurrent_activation='sigmoid')))\n",
    "model.add(Dropout(0.1))\n",
    "model.add(Bidirectional(LSTM(64, return_sequences=True, activation='sigmoid')))\n",
    "model.add(Dropout(0.1))\n",
    "model.add(Bidirectional(LSTM(64, activation='sigmoid')))\n",
    "model.add(Dropout(0.1))\n",
    "model.add(Dense(6, activation='softmax'))\n",
    "model.compile(loss='categorical_crossentropy', optimizer=opt, metrics=['accuracy'])\n",
    "\n",
    "mc = ModelCheckpoint('bilstm_best_model.h5', monitor='val_accuracy', mode='max', verbose=1, save_best_only=True)\n",
    "# train the model\n",
    "start = time.time()\n",
    "history = model.fit(X_train, Y_train, epochs=10, batch_size=32, validation_data=(X_test, Y_test), shuffle=True, callbacks=[mc])\n",
    "end = time.time()\n",
    "print(\"Time taken to train the model: \", end - start)"
   ]
  },
  {
   "cell_type": "code",
   "execution_count": 16,
   "metadata": {},
   "outputs": [
    {
     "name": "stdout",
     "output_type": "stream",
     "text": [
      "3488/3488 [==============================] - 17s 4ms/step\n",
      "Classification Report\n",
      "              precision    recall  f1-score   support\n",
      "\n",
      "           0       0.70      0.75      0.73     18639\n",
      "           1       0.88      0.61      0.72     18534\n",
      "           2       0.76      0.84      0.80     18672\n",
      "           3       1.00      0.97      0.99     18497\n",
      "           4       0.99      0.73      0.84     18721\n",
      "           5       0.93      0.82      0.87     18537\n",
      "\n",
      "   micro avg       0.87      0.79      0.83    111600\n",
      "   macro avg       0.88      0.79      0.82    111600\n",
      "weighted avg       0.88      0.79      0.82    111600\n",
      " samples avg       0.79      0.79      0.79    111600\n",
      "\n",
      "Accuracy:\n",
      "0.7872401433691756\n"
     ]
    },
    {
     "name": "stderr",
     "output_type": "stream",
     "text": [
      "C:\\Users\\Ameya\\AppData\\Local\\Packages\\PythonSoftwareFoundation.Python.3.10_qbz5n2kfra8p0\\LocalCache\\local-packages\\Python310\\site-packages\\sklearn\\metrics\\_classification.py:1334: UndefinedMetricWarning: Precision and F-score are ill-defined and being set to 0.0 in samples with no predicted labels. Use `zero_division` parameter to control this behavior.\n",
      "  _warn_prf(average, modifier, msg_start, len(result))\n"
     ]
    }
   ],
   "source": [
    "model = load_model('bilstm_best_model.h5')\n",
    "# print model classifaciton report\n",
    "y_pred = model.predict(X_test)\n",
    "y_pred = (y_pred > 0.5)\n",
    "# y_pred = np.argmax(y_pred, axis=1)\n",
    "print('Classification Report')\n",
    "print(metrics.classification_report(Y_test, y_pred))\n",
    "print('Accuracy:')\n",
    "print(metrics.accuracy_score(Y_test, y_pred))\n"
   ]
  },
  {
   "cell_type": "code",
   "execution_count": 17,
   "metadata": {},
   "outputs": [
    {
     "name": "stdout",
     "output_type": "stream",
     "text": [
      "3488/3488 [==============================] - 21s 6ms/step\n",
      "Average Latency for model prediction:(ms)\n",
      "0.22114267913244104\n"
     ]
    }
   ],
   "source": [
    "# print latency for model prediction\n",
    "start = time.time()\n",
    "y_pred = model.predict(X_test)\n",
    "end = time.time()\n",
    "print('Average Latency for model prediction:(ms)')\n",
    "print((end-start)/len(y_pred)*1000)"
   ]
  }
 ],
 "metadata": {
  "kernelspec": {
   "display_name": "Python 3",
   "language": "python",
   "name": "python3"
  },
  "language_info": {
   "codemirror_mode": {
    "name": "ipython",
    "version": 3
   },
   "file_extension": ".py",
   "mimetype": "text/x-python",
   "name": "python",
   "nbconvert_exporter": "python",
   "pygments_lexer": "ipython3",
   "version": "3.10.11"
  }
 },
 "nbformat": 4,
 "nbformat_minor": 2
}
