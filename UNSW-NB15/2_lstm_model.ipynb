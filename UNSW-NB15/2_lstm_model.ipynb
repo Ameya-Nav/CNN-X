{
 "cells": [
  {
   "cell_type": "code",
   "execution_count": 25,
   "metadata": {},
   "outputs": [],
   "source": [
    "import pandas as pd\n",
    "import numpy as np\n",
    "import pandas as pd\n",
    "import numpy as np\n",
    "import matplotlib.pyplot as plt \n",
    "import time"
   ]
  },
  {
   "cell_type": "code",
   "execution_count": 38,
   "metadata": {},
   "outputs": [],
   "source": [
    "#load the balanced data\n",
    "data_balanced = pd.read_csv('UNSW_NB15_balanced_smote.csv')"
   ]
  },
  {
   "cell_type": "markdown",
   "metadata": {},
   "source": [
    "### LSTM Model for Multi-class Classification"
   ]
  },
  {
   "cell_type": "code",
   "execution_count": 41,
   "metadata": {},
   "outputs": [
    {
     "name": "stderr",
     "output_type": "stream",
     "text": [
      "C:\\Users\\Ameya\\AppData\\Local\\Temp\\ipykernel_30200\\5757800.py:11: SettingWithCopyWarning: \n",
      "A value is trying to be set on a copy of a slice from a DataFrame.\n",
      "Try using .loc[row_indexer,col_indexer] = value instead\n",
      "\n",
      "See the caveats in the documentation: https://pandas.pydata.org/pandas-docs/stable/user_guide/indexing.html#returning-a-view-versus-a-copy\n",
      "  Y['attack_cat'] = Y['attack_cat'].astype('int')\n"
     ]
    },
    {
     "name": "stdout",
     "output_type": "stream",
     "text": [
      "(446400, 1, 196)\n",
      "Epoch 1/10\n",
      "13950/13950 [==============================] - 31s 2ms/step - loss: 0.1657 - accuracy: 0.7833 - val_loss: 0.1418 - val_accuracy: 0.8121\n",
      "Epoch 2/10\n",
      "13950/13950 [==============================] - 31s 2ms/step - loss: 0.1396 - accuracy: 0.8160 - val_loss: 0.1337 - val_accuracy: 0.8224\n",
      "Epoch 3/10\n",
      "13950/13950 [==============================] - 30s 2ms/step - loss: 0.1352 - accuracy: 0.8205 - val_loss: 0.1298 - val_accuracy: 0.8248\n",
      "Epoch 4/10\n",
      "13950/13950 [==============================] - 30s 2ms/step - loss: 0.1323 - accuracy: 0.8231 - val_loss: 0.1277 - val_accuracy: 0.8276\n",
      "Epoch 5/10\n",
      "13950/13950 [==============================] - 32s 2ms/step - loss: 0.1306 - accuracy: 0.8249 - val_loss: 0.1277 - val_accuracy: 0.8285\n",
      "Epoch 6/10\n",
      "13950/13950 [==============================] - 30s 2ms/step - loss: 0.1294 - accuracy: 0.8266 - val_loss: 0.1262 - val_accuracy: 0.8296\n",
      "Epoch 7/10\n",
      "13950/13950 [==============================] - 30s 2ms/step - loss: 0.1283 - accuracy: 0.8280 - val_loss: 0.1251 - val_accuracy: 0.8296\n",
      "Epoch 8/10\n",
      "13950/13950 [==============================] - 30s 2ms/step - loss: 0.1272 - accuracy: 0.8292 - val_loss: 0.1241 - val_accuracy: 0.8320\n",
      "Epoch 9/10\n",
      "13950/13950 [==============================] - 30s 2ms/step - loss: 0.1265 - accuracy: 0.8299 - val_loss: 0.1248 - val_accuracy: 0.8293\n",
      "Epoch 10/10\n",
      "13950/13950 [==============================] - 30s 2ms/step - loss: 0.1260 - accuracy: 0.8307 - val_loss: 0.1229 - val_accuracy: 0.8332\n",
      "Time taken to train the model:  305.05530166625977\n"
     ]
    }
   ],
   "source": [
    "# train an lstm model on the data\n",
    "from keras.models import Sequential\n",
    "from keras.layers import Dense, LSTM, Dropout, Activation\n",
    "from keras.optimizers import Adam\n",
    "from keras.callbacks import EarlyStopping\n",
    "from sklearn import model_selection\n",
    "from sklearn import metrics\n",
    "import tensorflow as tf\n",
    "X = data_balanced.drop(['attack_cat','label'], axis=1)\n",
    "Y = data_balanced[['attack_cat']]\n",
    "Y['attack_cat'] = Y['attack_cat'].astype('int')\n",
    "# Y['label'] = Y['label'].astype('int')\n",
    "# one hot encode attack_cat\n",
    "Y = pd.get_dummies(Y,columns=['attack_cat'])\n",
    "\n",
    "from sklearn.model_selection import train_test_split\n",
    "X_train, X_test, Y_train, Y_test = train_test_split(X,Y, test_size = 0.2, random_state = 42)\n",
    "\n",
    "# reshape the data for LSTM\n",
    "X_train = X_train.values.reshape((X_train.shape[0], 1, X_train.shape[1]))\n",
    "X_test = X_test.values.reshape((X_test.shape[0], 1, X_test.shape[1]))\n",
    "\n",
    "# convert all to numpy arrays\n",
    "X_train = np.asarray(X_train).astype(np.float32)\n",
    "Y_train = np.asarray(Y_train).astype(np.int32)\n",
    "X_test = np.asarray(X_test).astype(np.float32)\n",
    "Y_test = np.asarray(Y_test).astype(np.int32)\n",
    "\n",
    "print(X_train.shape)\n",
    "# define the model\n",
    "model = Sequential()\n",
    "model.add(LSTM(64, input_shape=(X_train.shape[1], X_train.shape[2]), return_sequences=True, activation='relu'))\n",
    "model.add(Dropout(0.1))\n",
    "model.add(LSTM(64, return_sequences=True, activation='relu'))\n",
    "model.add(Dropout(0.1))\n",
    "model.add(LSTM(64, activation='relu'))\n",
    "model.add(Dropout(0.1))\n",
    "model.add(Dense(6, activation='sigmoid'))\n",
    "\n",
    "# compile the model\n",
    "model.compile(optimizer='adam', loss='binary_crossentropy', metrics=['accuracy'])\n",
    "start = time.time()\n",
    "# train the model\n",
    "history = model.fit(X_train, Y_train, epochs=10, batch_size=32, validation_data=(X_test, Y_test), shuffle=True)\n",
    "end = time.time()\n",
    "print(\"Time taken to train the model: \", end - start)"
   ]
  },
  {
   "cell_type": "code",
   "execution_count": 42,
   "metadata": {},
   "outputs": [
    {
     "name": "stdout",
     "output_type": "stream",
     "text": [
      "3488/3488 [==============================] - 4s 1ms/step\n",
      "Classification Report\n",
      "              precision    recall  f1-score   support\n",
      "\n",
      "           0       0.67      0.89      0.77     18639\n",
      "           1       0.89      0.60      0.72     18534\n",
      "           2       0.78      0.83      0.80     18672\n",
      "           3       1.00      0.97      0.99     18497\n",
      "           4       0.99      0.73      0.84     18721\n",
      "           5       0.94      0.81      0.87     18537\n",
      "\n",
      "   micro avg       0.86      0.81      0.83    111600\n",
      "   macro avg       0.88      0.81      0.83    111600\n",
      "weighted avg       0.88      0.81      0.83    111600\n",
      " samples avg       0.81      0.81      0.81    111600\n",
      "\n",
      "Accuracy:\n",
      "0.8061290322580645\n"
     ]
    },
    {
     "name": "stderr",
     "output_type": "stream",
     "text": [
      "C:\\Users\\Ameya\\AppData\\Local\\Packages\\PythonSoftwareFoundation.Python.3.10_qbz5n2kfra8p0\\LocalCache\\local-packages\\Python310\\site-packages\\sklearn\\metrics\\_classification.py:1334: UndefinedMetricWarning: Precision and F-score are ill-defined and being set to 0.0 in samples with no predicted labels. Use `zero_division` parameter to control this behavior.\n",
      "  _warn_prf(average, modifier, msg_start, len(result))\n"
     ]
    }
   ],
   "source": [
    "# print model classifaciton report\n",
    "y_pred = model.predict(X_test)\n",
    "y_pred = (y_pred > 0.5)\n",
    "# y_pred = np.argmax(y_pred, axis=1)\n",
    "print('Classification Report')\n",
    "print(metrics.classification_report(Y_test, y_pred))\n",
    "print('Accuracy:')\n",
    "print(metrics.accuracy_score(Y_test, y_pred))\n"
   ]
  },
  {
   "cell_type": "code",
   "execution_count": 43,
   "metadata": {},
   "outputs": [
    {
     "name": "stdout",
     "output_type": "stream",
     "text": [
      "3488/3488 [==============================] - 4s 1ms/step\n",
      "Average Latency for model prediction:(ms)\n",
      "0.04159534062963233\n"
     ]
    }
   ],
   "source": [
    "# print latency for model prediction\n",
    "start = time.time()\n",
    "y_pred = model.predict(X_test)\n",
    "end = time.time()\n",
    "print('Average Latency for model prediction:(ms)')\n",
    "print((end-start)/len(y_pred)*1000)"
   ]
  }
 ],
 "metadata": {
  "kernelspec": {
   "display_name": "Python 3",
   "language": "python",
   "name": "python3"
  },
  "language_info": {
   "codemirror_mode": {
    "name": "ipython",
    "version": 3
   },
   "file_extension": ".py",
   "mimetype": "text/x-python",
   "name": "python",
   "nbconvert_exporter": "python",
   "pygments_lexer": "ipython3",
   "version": "3.10.11"
  }
 },
 "nbformat": 4,
 "nbformat_minor": 2
}
