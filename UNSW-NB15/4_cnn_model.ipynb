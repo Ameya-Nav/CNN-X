{
 "cells": [
  {
   "cell_type": "code",
   "execution_count": 1,
   "metadata": {},
   "outputs": [],
   "source": [
    "import pandas as pd\n",
    "import numpy as np\n",
    "import pandas as pd\n",
    "import numpy as np\n",
    "import matplotlib.pyplot as plt \n",
    "import time"
   ]
  },
  {
   "cell_type": "code",
   "execution_count": null,
   "metadata": {},
   "outputs": [],
   "source": [
    "#load the balanced data\n",
    "data_balanced = pd.read_csv('UNSW_NB15_balanced_smote.csv')"
   ]
  },
  {
   "cell_type": "markdown",
   "metadata": {},
   "source": [
    "### CNN Model for Multi-class Classification"
   ]
  },
  {
   "cell_type": "code",
   "execution_count": 15,
   "metadata": {},
   "outputs": [
    {
     "name": "stdout",
     "output_type": "stream",
     "text": [
      "WARNING:tensorflow:From C:\\Users\\Ameya\\AppData\\Local\\Packages\\PythonSoftwareFoundation.Python.3.10_qbz5n2kfra8p0\\LocalCache\\local-packages\\Python310\\site-packages\\keras\\src\\losses.py:2976: The name tf.losses.sparse_softmax_cross_entropy is deprecated. Please use tf.compat.v1.losses.sparse_softmax_cross_entropy instead.\n",
      "\n"
     ]
    },
    {
     "name": "stderr",
     "output_type": "stream",
     "text": [
      "C:\\Users\\Ameya\\AppData\\Local\\Temp\\ipykernel_28160\\1791411367.py:12: SettingWithCopyWarning: \n",
      "A value is trying to be set on a copy of a slice from a DataFrame.\n",
      "Try using .loc[row_indexer,col_indexer] = value instead\n",
      "\n",
      "See the caveats in the documentation: https://pandas.pydata.org/pandas-docs/stable/user_guide/indexing.html#returning-a-view-versus-a-copy\n",
      "  Y['attack_cat'] = Y['attack_cat'].astype('int')\n"
     ]
    },
    {
     "name": "stdout",
     "output_type": "stream",
     "text": [
      "(446400, 196, 1)\n",
      "WARNING:tensorflow:From C:\\Users\\Ameya\\AppData\\Local\\Packages\\PythonSoftwareFoundation.Python.3.10_qbz5n2kfra8p0\\LocalCache\\local-packages\\Python310\\site-packages\\keras\\src\\backend.py:873: The name tf.get_default_graph is deprecated. Please use tf.compat.v1.get_default_graph instead.\n",
      "\n",
      "WARNING:tensorflow:From C:\\Users\\Ameya\\AppData\\Local\\Packages\\PythonSoftwareFoundation.Python.3.10_qbz5n2kfra8p0\\LocalCache\\local-packages\\Python310\\site-packages\\keras\\src\\backend.py:6642: The name tf.nn.max_pool is deprecated. Please use tf.nn.max_pool2d instead.\n",
      "\n",
      "WARNING:tensorflow:From C:\\Users\\Ameya\\AppData\\Local\\Packages\\PythonSoftwareFoundation.Python.3.10_qbz5n2kfra8p0\\LocalCache\\local-packages\\Python310\\site-packages\\keras\\src\\optimizers\\__init__.py:309: The name tf.train.Optimizer is deprecated. Please use tf.compat.v1.train.Optimizer instead.\n",
      "\n",
      "Epoch 1/10\n",
      "WARNING:tensorflow:From C:\\Users\\Ameya\\AppData\\Local\\Packages\\PythonSoftwareFoundation.Python.3.10_qbz5n2kfra8p0\\LocalCache\\local-packages\\Python310\\site-packages\\keras\\src\\utils\\tf_utils.py:492: The name tf.ragged.RaggedTensorValue is deprecated. Please use tf.compat.v1.ragged.RaggedTensorValue instead.\n",
      "\n",
      "WARNING:tensorflow:From C:\\Users\\Ameya\\AppData\\Local\\Packages\\PythonSoftwareFoundation.Python.3.10_qbz5n2kfra8p0\\LocalCache\\local-packages\\Python310\\site-packages\\keras\\src\\engine\\base_layer_utils.py:384: The name tf.executing_eagerly_outside_functions is deprecated. Please use tf.compat.v1.executing_eagerly_outside_functions instead.\n",
      "\n",
      "13948/13950 [============================>.] - ETA: 0s - loss: 0.5176 - accuracy: 0.8034\n",
      "Epoch 1: val_accuracy improved from -inf to 0.82214, saving model to cnn_best_model.h5\n",
      "13950/13950 [==============================] - 190s 13ms/step - loss: 0.5176 - accuracy: 0.8034 - val_loss: 0.4409 - val_accuracy: 0.8221\n",
      "Epoch 2/10\n",
      "    6/13950 [..............................] - ETA: 2:47 - loss: 0.4443 - accuracy: 0.8438"
     ]
    },
    {
     "name": "stderr",
     "output_type": "stream",
     "text": [
      "C:\\Users\\Ameya\\AppData\\Local\\Packages\\PythonSoftwareFoundation.Python.3.10_qbz5n2kfra8p0\\LocalCache\\local-packages\\Python310\\site-packages\\keras\\src\\engine\\training.py:3103: UserWarning: You are saving your model as an HDF5 file via `model.save()`. This file format is considered legacy. We recommend using instead the native Keras format, e.g. `model.save('my_model.keras')`.\n",
      "  saving_api.save_model(\n"
     ]
    },
    {
     "name": "stdout",
     "output_type": "stream",
     "text": [
      "13947/13950 [============================>.] - ETA: 0s - loss: 0.4518 - accuracy: 0.8224\n",
      "Epoch 2: val_accuracy improved from 0.82214 to 0.82858, saving model to cnn_best_model.h5\n",
      "13950/13950 [==============================] - 182s 13ms/step - loss: 0.4518 - accuracy: 0.8224 - val_loss: 0.4241 - val_accuracy: 0.8286\n",
      "Epoch 3/10\n",
      "13949/13950 [============================>.] - ETA: 0s - loss: 0.4299 - accuracy: 0.8289\n",
      "Epoch 3: val_accuracy improved from 0.82858 to 0.83886, saving model to cnn_best_model.h5\n",
      "13950/13950 [==============================] - 204s 15ms/step - loss: 0.4299 - accuracy: 0.8289 - val_loss: 0.4002 - val_accuracy: 0.8389\n",
      "Epoch 4/10\n",
      "13949/13950 [============================>.] - ETA: 0s - loss: 0.4152 - accuracy: 0.8347\n",
      "Epoch 4: val_accuracy improved from 0.83886 to 0.84129, saving model to cnn_best_model.h5\n",
      "13950/13950 [==============================] - 252s 18ms/step - loss: 0.4152 - accuracy: 0.8347 - val_loss: 0.3897 - val_accuracy: 0.8413\n",
      "Epoch 5/10\n",
      "13949/13950 [============================>.] - ETA: 0s - loss: 0.4060 - accuracy: 0.8382\n",
      "Epoch 5: val_accuracy did not improve from 0.84129\n",
      "13950/13950 [==============================] - 243s 17ms/step - loss: 0.4060 - accuracy: 0.8382 - val_loss: 0.3928 - val_accuracy: 0.8384\n",
      "Epoch 6/10\n",
      "13948/13950 [============================>.] - ETA: 0s - loss: 0.3990 - accuracy: 0.8409\n",
      "Epoch 6: val_accuracy improved from 0.84129 to 0.85099, saving model to cnn_best_model.h5\n",
      "13950/13950 [==============================] - 251s 18ms/step - loss: 0.3990 - accuracy: 0.8409 - val_loss: 0.3749 - val_accuracy: 0.8510\n",
      "Epoch 7/10\n",
      "13947/13950 [============================>.] - ETA: 0s - loss: 0.3915 - accuracy: 0.8442\n",
      "Epoch 7: val_accuracy did not improve from 0.85099\n",
      "13950/13950 [==============================] - 212s 15ms/step - loss: 0.3915 - accuracy: 0.8442 - val_loss: 0.3765 - val_accuracy: 0.8483\n",
      "Epoch 8/10\n",
      "13950/13950 [==============================] - ETA: 0s - loss: 0.3872 - accuracy: 0.8452\n",
      "Epoch 8: val_accuracy improved from 0.85099 to 0.85196, saving model to cnn_best_model.h5\n",
      "13950/13950 [==============================] - 211s 15ms/step - loss: 0.3872 - accuracy: 0.8452 - val_loss: 0.3733 - val_accuracy: 0.8520\n",
      "Epoch 9/10\n",
      "13950/13950 [==============================] - ETA: 0s - loss: 0.3863 - accuracy: 0.8468\n",
      "Epoch 9: val_accuracy improved from 0.85196 to 0.85391, saving model to cnn_best_model.h5\n",
      "13950/13950 [==============================] - 194s 14ms/step - loss: 0.3863 - accuracy: 0.8468 - val_loss: 0.3686 - val_accuracy: 0.8539\n",
      "Epoch 10/10\n",
      "13946/13950 [============================>.] - ETA: 0s - loss: 0.3825 - accuracy: 0.8475\n",
      "Epoch 10: val_accuracy did not improve from 0.85391\n",
      "13950/13950 [==============================] - 170s 12ms/step - loss: 0.3826 - accuracy: 0.8475 - val_loss: 0.3701 - val_accuracy: 0.8531\n",
      "Time taken to train the model:  2109.50971865654\n"
     ]
    }
   ],
   "source": [
    "# train an lstm model on the data\n",
    "from keras.models import Sequential\n",
    "from keras.layers import Dense, Dropout, Activation\n",
    "from keras.layers import Conv1D\n",
    "from keras.layers import MaxPooling1D\n",
    "from keras.layers import Flatten\n",
    "from keras.optimizers import Adam\n",
    "from keras.callbacks import EarlyStopping, ModelCheckpoint\n",
    "from sklearn import metrics\n",
    "X = data_balanced.drop(['attack_cat', 'label'], axis=1)\n",
    "Y = data_balanced[['attack_cat']]\n",
    "Y['attack_cat'] = Y['attack_cat'].astype('int')\n",
    "# Y['label'] = Y['label'].astype('int')\n",
    "# one hot encode attack_cat\n",
    "Y = pd.get_dummies(Y,columns=['attack_cat'])\n",
    "\n",
    "from sklearn.model_selection import train_test_split\n",
    "X_train, X_test, Y_train, Y_test = train_test_split(X,Y, test_size = 0.2, random_state = 42)\n",
    "\n",
    "# convert to numpy array\n",
    "X_train = np.asarray(X_train).astype(np.float32)\n",
    "X_test = np.asarray(X_test).astype(np.float32)\n",
    "\n",
    "# reshape the data for LSTM\n",
    "X_train = X_train.reshape(X_train.shape[0], X_train.shape[1], 1)\n",
    "X_test = X_test.reshape(X_test.shape[0], X_test.shape[1], 1)\n",
    "\n",
    "# convert all to numpy arrays\n",
    "X_train = np.asarray(X_train).astype(np.float32)\n",
    "Y_train = np.asarray(Y_train).astype(np.int32)\n",
    "X_test = np.asarray(X_test).astype(np.float32)\n",
    "Y_test = np.asarray(Y_test).astype(np.int32)\n",
    "\n",
    "print(X_train.shape)\n",
    "# define the model\n",
    "model = Sequential()\n",
    "model.add(Conv1D(64, 3,activation=\"relu\",input_shape=(X_train.shape[1], 1)))\n",
    "model.add(Conv1D(64, 3, activation=\"relu\"))\n",
    "model.add(MaxPooling1D(pool_size=(2)))\n",
    "model.add(Conv1D(128, 3, activation=\"relu\"))\n",
    "model.add(Conv1D(128, 3, activation=\"relu\"))\n",
    "model.add(MaxPooling1D(pool_size=(2)))\n",
    "model.add(Flatten())\n",
    "model.add(Dense(128, activation=\"relu\"))\n",
    "model.add(Dropout(0.5))\n",
    "model.add(Dense(6, activation=\"softmax\"))\n",
    "\n",
    "model.compile(loss='categorical_crossentropy', optimizer='adam', metrics=['accuracy'])\n",
    "\n",
    "mc = ModelCheckpoint('cnn_best_model.h5', monitor='val_accuracy', mode='max', verbose=1, save_best_only=True)\n",
    "\n",
    "start = time.time()\n",
    "history = model.fit(X_train, Y_train, epochs=10, batch_size=32, validation_data=(X_test, Y_test), callbacks=[mc])\n",
    "end = time.time()\n",
    "print(\"Time taken to train the model: \", end-start)"
   ]
  },
  {
   "cell_type": "code",
   "execution_count": 16,
   "metadata": {},
   "outputs": [
    {
     "name": "stdout",
     "output_type": "stream",
     "text": [
      "3488/3488 [==============================] - 10s 3ms/step\n",
      "Time taken to predict:  10.98546028137207\n",
      "              precision    recall  f1-score   support\n",
      "\n",
      "           0       0.70      0.91      0.79     18639\n",
      "           1       0.79      0.77      0.78     18534\n",
      "           2       0.82      0.82      0.82     18672\n",
      "           3       1.00      0.97      0.99     18497\n",
      "           4       0.94      0.81      0.87     18721\n",
      "           5       0.94      0.84      0.89     18537\n",
      "\n",
      "    accuracy                           0.85    111600\n",
      "   macro avg       0.87      0.85      0.86    111600\n",
      "weighted avg       0.87      0.85      0.86    111600\n",
      "\n",
      "0.8539068100358423\n"
     ]
    }
   ],
   "source": [
    "from sklearn.metrics import classification_report, accuracy_score, confusion_matrix\n",
    "from keras.models import load_model\n",
    "model = load_model('cnn_best_model.h5')\n",
    "start = time.time()\n",
    "y_pred = model.predict(X_test)\n",
    "end = time.time()\n",
    "print(\"Time taken to predict: \", end-start)\n",
    "y_pred = np.argmax(y_pred, axis=1)\n",
    "Y_test = np.argmax(Y_test, axis=1)\n",
    "\n",
    "print(classification_report(Y_test, y_pred))\n",
    "print(accuracy_score(Y_test, y_pred))\n"
   ]
  },
  {
   "cell_type": "code",
   "execution_count": 17,
   "metadata": {},
   "outputs": [
    {
     "name": "stdout",
     "output_type": "stream",
     "text": [
      "[0.91045657 0.76977447 0.82208655 0.97432016 0.80887773 0.83853914]\n"
     ]
    }
   ],
   "source": [
    "# from confusion matrix calculate accuracy of each class\n",
    "cm = confusion_matrix(Y_test, y_pred)\n",
    "cm = cm.astype('float') / cm.sum(axis=1)[:, np.newaxis]\n",
    "print(cm.diagonal())"
   ]
  }
 ],
 "metadata": {
  "kernelspec": {
   "display_name": "Python 3",
   "language": "python",
   "name": "python3"
  },
  "language_info": {
   "codemirror_mode": {
    "name": "ipython",
    "version": 3
   },
   "file_extension": ".py",
   "mimetype": "text/x-python",
   "name": "python",
   "nbconvert_exporter": "python",
   "pygments_lexer": "ipython3",
   "version": "3.10.11"
  }
 },
 "nbformat": 4,
 "nbformat_minor": 2
}
