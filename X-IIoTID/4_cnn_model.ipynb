{
 "cells": [
  {
   "cell_type": "code",
   "execution_count": 2,
   "metadata": {},
   "outputs": [],
   "source": [
    "import pandas as pd\n",
    "import numpy as np\n",
    "import matplotlib.pyplot as plt \n",
    "from sklearn.model_selection import train_test_split\n",
    "from sklearn.metrics import classification_report, accuracy_score, confusion_matrix\n",
    "from keras.models import Sequential\n",
    "from keras.layers import Dense, Dropout, Conv1D, MaxPooling1D, Flatten\n",
    "from keras.callbacks import ModelCheckpoint\n",
    "from keras.models import load_model\n",
    "import time"
   ]
  },
  {
   "cell_type": "code",
   "execution_count": 3,
   "metadata": {},
   "outputs": [],
   "source": [
    "df = pd.read_csv('X-IIoTID dataset_processed.csv')"
   ]
  },
  {
   "cell_type": "code",
   "execution_count": 10,
   "metadata": {},
   "outputs": [
    {
     "name": "stdout",
     "output_type": "stream",
     "text": [
      "Epoch 1/10\n",
      "14901/14901 [==============================] - ETA: 0s - loss: 0.1157 - accuracy: 0.9663\n",
      "Epoch 1: val_accuracy improved from -inf to 0.98013, saving model to cnn_best_model.h5\n",
      "14901/14901 [==============================] - 276s 18ms/step - loss: 0.1157 - accuracy: 0.9663 - val_loss: 0.0557 - val_accuracy: 0.9801\n",
      "Epoch 2/10\n",
      "    1/14901 [..............................] - ETA: 4:38 - loss: 0.0476 - accuracy: 1.0000"
     ]
    },
    {
     "name": "stderr",
     "output_type": "stream",
     "text": [
      "/Library/Frameworks/Python.framework/Versions/3.8/lib/python3.8/site-packages/keras/src/engine/training.py:3000: UserWarning: You are saving your model as an HDF5 file via `model.save()`. This file format is considered legacy. We recommend using instead the native Keras format, e.g. `model.save('my_model.keras')`.\n",
      "  saving_api.save_model(\n"
     ]
    },
    {
     "name": "stdout",
     "output_type": "stream",
     "text": [
      "14898/14901 [============================>.] - ETA: 0s - loss: 0.0574 - accuracy: 0.9791\n",
      "Epoch 2: val_accuracy improved from 0.98013 to 0.98475, saving model to cnn_best_model.h5\n",
      "14901/14901 [==============================] - 268s 18ms/step - loss: 0.0574 - accuracy: 0.9791 - val_loss: 0.0403 - val_accuracy: 0.9847\n",
      "Epoch 3/10\n",
      "14899/14901 [============================>.] - ETA: 0s - loss: 0.0500 - accuracy: 0.9815\n",
      "Epoch 3: val_accuracy did not improve from 0.98475\n",
      "14901/14901 [==============================] - 301s 20ms/step - loss: 0.0500 - accuracy: 0.9815 - val_loss: 0.0414 - val_accuracy: 0.9844\n",
      "Epoch 4/10\n",
      "14901/14901 [==============================] - ETA: 0s - loss: 0.0470 - accuracy: 0.9823\n",
      "Epoch 4: val_accuracy did not improve from 0.98475\n",
      "14901/14901 [==============================] - 270s 18ms/step - loss: 0.0470 - accuracy: 0.9823 - val_loss: 0.0416 - val_accuracy: 0.9845\n",
      "Epoch 5/10\n",
      "14899/14901 [============================>.] - ETA: 0s - loss: 0.0453 - accuracy: 0.9833\n",
      "Epoch 5: val_accuracy did not improve from 0.98475\n",
      "14901/14901 [==============================] - 288s 19ms/step - loss: 0.0453 - accuracy: 0.9832 - val_loss: 0.0469 - val_accuracy: 0.9827\n",
      "Epoch 6/10\n",
      "14900/14901 [============================>.] - ETA: 0s - loss: 0.0446 - accuracy: 0.9836\n",
      "Epoch 6: val_accuracy improved from 0.98475 to 0.98501, saving model to cnn_best_model.h5\n",
      "14901/14901 [==============================] - 228s 15ms/step - loss: 0.0446 - accuracy: 0.9836 - val_loss: 0.0393 - val_accuracy: 0.9850\n",
      "Epoch 7/10\n",
      "14901/14901 [==============================] - ETA: 0s - loss: 0.0436 - accuracy: 0.9835\n",
      "Epoch 7: val_accuracy improved from 0.98501 to 0.98559, saving model to cnn_best_model.h5\n",
      "14901/14901 [==============================] - 370s 25ms/step - loss: 0.0436 - accuracy: 0.9835 - val_loss: 0.0373 - val_accuracy: 0.9856\n",
      "Epoch 8/10\n",
      "14900/14901 [============================>.] - ETA: 0s - loss: 0.0430 - accuracy: 0.9840\n",
      "Epoch 8: val_accuracy improved from 0.98559 to 0.98613, saving model to cnn_best_model.h5\n",
      "14901/14901 [==============================] - 242s 16ms/step - loss: 0.0430 - accuracy: 0.9840 - val_loss: 0.0407 - val_accuracy: 0.9861\n",
      "Epoch 9/10\n",
      "14899/14901 [============================>.] - ETA: 0s - loss: 0.0430 - accuracy: 0.9842\n",
      "Epoch 9: val_accuracy did not improve from 0.98613\n",
      "14901/14901 [==============================] - 196s 13ms/step - loss: 0.0430 - accuracy: 0.9842 - val_loss: 0.0386 - val_accuracy: 0.9847\n",
      "Epoch 10/10\n",
      "14901/14901 [==============================] - ETA: 0s - loss: 0.0431 - accuracy: 0.9840\n",
      "Epoch 10: val_accuracy improved from 0.98613 to 0.98623, saving model to cnn_best_model.h5\n",
      "14901/14901 [==============================] - 194s 13ms/step - loss: 0.0431 - accuracy: 0.9840 - val_loss: 0.0374 - val_accuracy: 0.9862\n",
      "Time taken to train the model:  2633.307662010193\n"
     ]
    }
   ],
   "source": [
    "X = (df.iloc[:,:-18]).drop(columns = ['class3'], axis=1)\n",
    "# Y will be last 18 columns\n",
    "y = df.iloc[:,-18:]\n",
    "\n",
    "X_train, X_test, y_train, y_test = train_test_split(X, y, test_size=0.2, random_state=42)\n",
    "\n",
    "# convert to numpy array\n",
    "X_train = np.asarray(X_train).astype(np.float32)\n",
    "X_test = np.asarray(X_test).astype(np.float32)\n",
    "\n",
    "X_train = X_train.reshape(X_train.shape[0], X_train.shape[1], 1)\n",
    "X_test = X_test.reshape(X_test.shape[0], X_test.shape[1], 1)\n",
    "\n",
    "model = Sequential()\n",
    "model.add(Conv1D(64, 3,activation=\"relu\",input_shape=(X_train.shape[1], 1)))\n",
    "model.add(Conv1D(64, 3, activation=\"relu\"))\n",
    "model.add(MaxPooling1D(pool_size=(2)))\n",
    "model.add(Conv1D(128, 3, activation=\"relu\"))\n",
    "model.add(Conv1D(128, 3, activation=\"relu\"))\n",
    "model.add(MaxPooling1D(pool_size=(2)))\n",
    "model.add(Flatten())\n",
    "model.add(Dense(128, activation=\"relu\"))\n",
    "model.add(Dropout(0.5))\n",
    "model.add(Dense(18, activation=\"softmax\"))\n",
    "\n",
    "\n",
    "model.compile(loss='categorical_crossentropy', optimizer='adam', metrics=['accuracy'])\n",
    "\n",
    "mc = ModelCheckpoint('cnn_best_model.h5', monitor='val_accuracy', mode='max', verbose=1, save_best_only=True)\n",
    "\n",
    "start = time.time()\n",
    "history = model.fit(X_train, y_train, epochs=10, batch_size=32, validation_data=(X_test, y_test), callbacks=[mc])\n",
    "end = time.time()\n",
    "print(\"Time taken to train the model: \", end-start)"
   ]
  },
  {
   "cell_type": "code",
   "execution_count": 11,
   "metadata": {},
   "outputs": [
    {
     "name": "stdout",
     "output_type": "stream",
     "text": [
      "3726/3726 [==============================] - 17s 5ms/step\n",
      "Time taken to predict:  17.897064208984375\n",
      "              precision    recall  f1-score   support\n",
      "\n",
      "           0       1.00      1.00      1.00      5168\n",
      "           1       0.81      0.98      0.89       425\n",
      "           2       1.00      0.99      1.00       299\n",
      "           3       0.94      0.74      0.83      4011\n",
      "           4       1.00      1.00      1.00      3280\n",
      "           5       1.00      0.98      0.99       764\n",
      "           6       1.00      1.00      1.00      6991\n",
      "           7       1.00      1.00      1.00      3781\n",
      "           8       1.00      0.18      0.30        17\n",
      "           9       1.00      1.00      1.00       932\n",
      "          10       0.98      1.00      0.99     67311\n",
      "          11       1.00      1.00      1.00     15379\n",
      "          12       0.96      0.96      0.96       167\n",
      "          13       1.00      1.00      1.00      7633\n",
      "          14       0.98      0.67      0.79       370\n",
      "          15       0.00      0.00      0.00        10\n",
      "          16       0.89      0.76      0.82       215\n",
      "          17       1.00      1.00      1.00      2455\n",
      "\n",
      "    accuracy                           0.99    119208\n",
      "   macro avg       0.92      0.85      0.86    119208\n",
      "weighted avg       0.99      0.99      0.99    119208\n",
      "\n",
      "0.9862341453593718\n"
     ]
    },
    {
     "name": "stderr",
     "output_type": "stream",
     "text": [
      "/Library/Frameworks/Python.framework/Versions/3.8/lib/python3.8/site-packages/sklearn/metrics/_classification.py:1471: UndefinedMetricWarning: Precision and F-score are ill-defined and being set to 0.0 in labels with no predicted samples. Use `zero_division` parameter to control this behavior.\n",
      "  _warn_prf(average, modifier, msg_start, len(result))\n",
      "/Library/Frameworks/Python.framework/Versions/3.8/lib/python3.8/site-packages/sklearn/metrics/_classification.py:1471: UndefinedMetricWarning: Precision and F-score are ill-defined and being set to 0.0 in labels with no predicted samples. Use `zero_division` parameter to control this behavior.\n",
      "  _warn_prf(average, modifier, msg_start, len(result))\n",
      "/Library/Frameworks/Python.framework/Versions/3.8/lib/python3.8/site-packages/sklearn/metrics/_classification.py:1471: UndefinedMetricWarning: Precision and F-score are ill-defined and being set to 0.0 in labels with no predicted samples. Use `zero_division` parameter to control this behavior.\n",
      "  _warn_prf(average, modifier, msg_start, len(result))\n"
     ]
    }
   ],
   "source": [
    "model = load_model('cnn_best_model.h5')\n",
    "start = time.time()\n",
    "y_pred = model.predict(X_test)\n",
    "end = time.time()\n",
    "print(\"Time taken to predict: \", end-start)\n",
    "y_pred = np.argmax(y_pred, axis=1)\n",
    "y_test = np.argmax(y_test, axis=1)\n",
    "\n",
    "print(classification_report(y_test, y_pred))\n",
    "print(accuracy_score(y_test, y_pred))"
   ]
  },
  {
   "cell_type": "code",
   "execution_count": 12,
   "metadata": {},
   "outputs": [
    {
     "name": "stdout",
     "output_type": "stream",
     "text": [
      "Accuracy of each class:\n",
      "0 0.9998065015479877\n",
      "1 0.9788235294117648\n",
      "2 0.9933110367892977\n",
      "3 0.7419596110695588\n",
      "4 1.0\n",
      "5 0.9764397905759162\n",
      "6 0.9991417536833072\n",
      "7 0.9984131182226924\n",
      "8 0.17647058823529413\n",
      "9 1.0\n",
      "10 0.9950676709601699\n",
      "11 0.9992197151960466\n",
      "12 0.9640718562874252\n",
      "13 0.9981658587711254\n",
      "14 0.6675675675675675\n",
      "15 0.0\n",
      "16 0.7581395348837209\n",
      "17 0.9995926680244399\n"
     ]
    }
   ],
   "source": [
    "cm = confusion_matrix(y_test, y_pred)\n",
    "cm = cm.astype('float') / cm.sum(axis=1)[:, np.newaxis]\n",
    "print('Accuracy of each class:')\n",
    "for i in range(cm.shape[0]):\n",
    "    print(i, cm[i][i])"
   ]
  }
 ],
 "metadata": {
  "kernelspec": {
   "display_name": "Python 3",
   "language": "python",
   "name": "python3"
  },
  "language_info": {
   "codemirror_mode": {
    "name": "ipython",
    "version": 3
   },
   "file_extension": ".py",
   "mimetype": "text/x-python",
   "name": "python",
   "nbconvert_exporter": "python",
   "pygments_lexer": "ipython3",
   "version": "3.10.11"
  }
 },
 "nbformat": 4,
 "nbformat_minor": 2
}
